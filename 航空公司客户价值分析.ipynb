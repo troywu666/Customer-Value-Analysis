{
 "cells": [
  {
   "cell_type": "code",
   "execution_count": 2,
   "metadata": {
    "ExecuteTime": {
     "end_time": "2019-12-02T18:10:23.120803Z",
     "start_time": "2019-12-02T18:10:21.738622Z"
    },
    "scrolled": false
   },
   "outputs": [
    {
     "output_type": "execute_result",
     "data": {
      "text/plain": "     FFP_DATE   LOAD_TIME  LAST_TO_END  FLIGHT_COUNT  SEG_KM_SUM  avg_discount\n0  2006/11/02  2014/03/31            1           210      580717      0.961639\n1  2007/02/19  2014/03/31            7           140      293678      1.252314\n2  2007/02/01  2014/03/31           11           135      283712      1.254676\n3  2008/08/22  2014/03/31           97            23      281336      1.090870\n4  2009/04/10  2014/03/31            5           152      309928      0.970658",
      "text/html": "<div>\n<style scoped>\n    .dataframe tbody tr th:only-of-type {\n        vertical-align: middle;\n    }\n\n    .dataframe tbody tr th {\n        vertical-align: top;\n    }\n\n    .dataframe thead th {\n        text-align: right;\n    }\n</style>\n<table border=\"1\" class=\"dataframe\">\n  <thead>\n    <tr style=\"text-align: right;\">\n      <th></th>\n      <th>FFP_DATE</th>\n      <th>LOAD_TIME</th>\n      <th>LAST_TO_END</th>\n      <th>FLIGHT_COUNT</th>\n      <th>SEG_KM_SUM</th>\n      <th>avg_discount</th>\n    </tr>\n  </thead>\n  <tbody>\n    <tr>\n      <th>0</th>\n      <td>2006/11/02</td>\n      <td>2014/03/31</td>\n      <td>1</td>\n      <td>210</td>\n      <td>580717</td>\n      <td>0.961639</td>\n    </tr>\n    <tr>\n      <th>1</th>\n      <td>2007/02/19</td>\n      <td>2014/03/31</td>\n      <td>7</td>\n      <td>140</td>\n      <td>293678</td>\n      <td>1.252314</td>\n    </tr>\n    <tr>\n      <th>2</th>\n      <td>2007/02/01</td>\n      <td>2014/03/31</td>\n      <td>11</td>\n      <td>135</td>\n      <td>283712</td>\n      <td>1.254676</td>\n    </tr>\n    <tr>\n      <th>3</th>\n      <td>2008/08/22</td>\n      <td>2014/03/31</td>\n      <td>97</td>\n      <td>23</td>\n      <td>281336</td>\n      <td>1.090870</td>\n    </tr>\n    <tr>\n      <th>4</th>\n      <td>2009/04/10</td>\n      <td>2014/03/31</td>\n      <td>5</td>\n      <td>152</td>\n      <td>309928</td>\n      <td>0.970658</td>\n    </tr>\n  </tbody>\n</table>\n</div>"
     },
     "metadata": {},
     "execution_count": 2
    }
   ],
   "source": [
    "import pandas as pd\n",
    "air_data=pd.read_csv('./data/air_data.csv',encoding='utf-8')\n",
    "data=air_data[['FFP_DATE','LOAD_TIME','LAST_TO_END','FLIGHT_COUNT','SEG_KM_SUM','avg_discount']]\n",
    "data.head()"
   ]
  },
  {
   "cell_type": "code",
   "execution_count": 3,
   "metadata": {
    "ExecuteTime": {
     "end_time": "2019-12-02T18:10:24.237648Z",
     "start_time": "2019-12-02T18:10:24.032314Z"
    }
   },
   "outputs": [
    {
     "output_type": "execute_result",
     "data": {
      "text/plain": "        LAST_TO_END  FLIGHT_COUNT     SEG_KM_SUM  avg_discount\ncount  62988.000000  62988.000000   62988.000000  62988.000000\nmean     176.120102     11.839414   17123.878691      0.721558\nstd      183.822223     14.049471   20960.844623      0.185427\nmin        1.000000      2.000000     368.000000      0.000000\n25%       29.000000      3.000000    4747.000000      0.611997\n50%      108.000000      7.000000    9994.000000      0.711856\n75%      268.000000     15.000000   21271.250000      0.809476\nmax      731.000000    213.000000  580717.000000      1.500000",
      "text/html": "<div>\n<style scoped>\n    .dataframe tbody tr th:only-of-type {\n        vertical-align: middle;\n    }\n\n    .dataframe tbody tr th {\n        vertical-align: top;\n    }\n\n    .dataframe thead th {\n        text-align: right;\n    }\n</style>\n<table border=\"1\" class=\"dataframe\">\n  <thead>\n    <tr style=\"text-align: right;\">\n      <th></th>\n      <th>LAST_TO_END</th>\n      <th>FLIGHT_COUNT</th>\n      <th>SEG_KM_SUM</th>\n      <th>avg_discount</th>\n    </tr>\n  </thead>\n  <tbody>\n    <tr>\n      <th>count</th>\n      <td>62988.000000</td>\n      <td>62988.000000</td>\n      <td>62988.000000</td>\n      <td>62988.000000</td>\n    </tr>\n    <tr>\n      <th>mean</th>\n      <td>176.120102</td>\n      <td>11.839414</td>\n      <td>17123.878691</td>\n      <td>0.721558</td>\n    </tr>\n    <tr>\n      <th>std</th>\n      <td>183.822223</td>\n      <td>14.049471</td>\n      <td>20960.844623</td>\n      <td>0.185427</td>\n    </tr>\n    <tr>\n      <th>min</th>\n      <td>1.000000</td>\n      <td>2.000000</td>\n      <td>368.000000</td>\n      <td>0.000000</td>\n    </tr>\n    <tr>\n      <th>25%</th>\n      <td>29.000000</td>\n      <td>3.000000</td>\n      <td>4747.000000</td>\n      <td>0.611997</td>\n    </tr>\n    <tr>\n      <th>50%</th>\n      <td>108.000000</td>\n      <td>7.000000</td>\n      <td>9994.000000</td>\n      <td>0.711856</td>\n    </tr>\n    <tr>\n      <th>75%</th>\n      <td>268.000000</td>\n      <td>15.000000</td>\n      <td>21271.250000</td>\n      <td>0.809476</td>\n    </tr>\n    <tr>\n      <th>max</th>\n      <td>731.000000</td>\n      <td>213.000000</td>\n      <td>580717.000000</td>\n      <td>1.500000</td>\n    </tr>\n  </tbody>\n</table>\n</div>"
     },
     "metadata": {},
     "execution_count": 3
    }
   ],
   "source": [
    "data.describe()"
   ]
  },
  {
   "cell_type": "code",
   "execution_count": 4,
   "metadata": {
    "ExecuteTime": {
     "end_time": "2019-12-02T18:10:24.869567Z",
     "start_time": "2019-12-02T18:10:24.848624Z"
    },
    "scrolled": true,
    "tags": []
   },
   "outputs": [
    {
     "output_type": "stream",
     "name": "stdout",
     "text": "<class 'pandas.core.frame.DataFrame'>\nRangeIndex: 62988 entries, 0 to 62987\nData columns (total 6 columns):\n #   Column        Non-Null Count  Dtype  \n---  ------        --------------  -----  \n 0   FFP_DATE      62988 non-null  object \n 1   LOAD_TIME     62988 non-null  object \n 2   LAST_TO_END   62988 non-null  int64  \n 3   FLIGHT_COUNT  62988 non-null  int64  \n 4   SEG_KM_SUM    62988 non-null  int64  \n 5   avg_discount  62988 non-null  float64\ndtypes: float64(1), int64(3), object(2)\nmemory usage: 2.9+ MB\n"
    }
   ],
   "source": [
    "data.info()"
   ]
  },
  {
   "cell_type": "code",
   "execution_count": 5,
   "metadata": {
    "ExecuteTime": {
     "end_time": "2019-12-02T18:10:25.603516Z",
     "start_time": "2019-12-02T18:10:25.592558Z"
    },
    "scrolled": true
   },
   "outputs": [
    {
     "output_type": "execute_result",
     "data": {
      "text/plain": "FFP_DATE        0\nLOAD_TIME       0\nLAST_TO_END     0\nFLIGHT_COUNT    0\nSEG_KM_SUM      0\navg_discount    0\ndtype: int64"
     },
     "metadata": {},
     "execution_count": 5
    }
   ],
   "source": [
    "data.isnull().sum()"
   ]
  },
  {
   "cell_type": "code",
   "execution_count": 6,
   "metadata": {
    "ExecuteTime": {
     "end_time": "2019-12-02T18:10:26.417591Z",
     "start_time": "2019-12-02T18:10:26.331822Z"
    },
    "scrolled": true
   },
   "outputs": [],
   "source": [
    "data_clean=data.copy()\n",
    "data_clean.loc[0:,'FFP_DATE']=pd.to_datetime(data['FFP_DATE'])\n",
    "data_clean.loc[0:,'LOAD_TIME']=pd.to_datetime(data['LOAD_TIME'])"
   ]
  },
  {
   "cell_type": "code",
   "execution_count": null,
   "metadata": {
    "ExecuteTime": {
     "end_time": "2019-12-02T18:10:34.171362Z",
     "start_time": "2019-12-02T18:10:27.064208Z"
    }
   },
   "outputs": [],
   "source": [
    "data_clean['L']=data_clean.apply(lambda x: x['LOAD_TIME']-x['FFP_DATE'] ,axis=1)\n",
    "data_clean['L'].map(lambda x:x.days)\n",
    "data_clean=data_clean.drop(['FFP_DATE','LOAD_TIME'],axis=1)##必须有axis=1\n",
    "data_clean.columns=['R','F','M','C','L']\n",
    "data_clean_norm=(data_clean-data_clean.mean())/(data_clean.std())\n",
    "data_clean_norm.head(20)"
   ]
  },
  {
   "cell_type": "code",
   "execution_count": 7,
   "metadata": {
    "ExecuteTime": {
     "end_time": "2019-12-02T18:10:34.980095Z",
     "start_time": "2019-12-02T18:10:34.945151Z"
    },
    "scrolled": true
   },
   "outputs": [
    {
     "data": {
      "text/html": [
       "<div>\n",
       "<style scoped>\n",
       "    .dataframe tbody tr th:only-of-type {\n",
       "        vertical-align: middle;\n",
       "    }\n",
       "\n",
       "    .dataframe tbody tr th {\n",
       "        vertical-align: top;\n",
       "    }\n",
       "\n",
       "    .dataframe thead th {\n",
       "        text-align: right;\n",
       "    }\n",
       "</style>\n",
       "<table border=\"1\" class=\"dataframe\">\n",
       "  <thead>\n",
       "    <tr style=\"text-align: right;\">\n",
       "      <th></th>\n",
       "      <th>R</th>\n",
       "      <th>F</th>\n",
       "      <th>M</th>\n",
       "      <th>C</th>\n",
       "      <th>L</th>\n",
       "    </tr>\n",
       "  </thead>\n",
       "  <tbody>\n",
       "    <tr>\n",
       "      <td>count</td>\n",
       "      <td>6.298800e+04</td>\n",
       "      <td>6.298800e+04</td>\n",
       "      <td>6.298800e+04</td>\n",
       "      <td>6.298800e+04</td>\n",
       "      <td>6.298800e+04</td>\n",
       "    </tr>\n",
       "    <tr>\n",
       "      <td>mean</td>\n",
       "      <td>-5.332850e-15</td>\n",
       "      <td>5.933323e-14</td>\n",
       "      <td>2.638082e-15</td>\n",
       "      <td>-2.758702e-14</td>\n",
       "      <td>7.850596e-16</td>\n",
       "    </tr>\n",
       "    <tr>\n",
       "      <td>std</td>\n",
       "      <td>1.000000e+00</td>\n",
       "      <td>1.000000e+00</td>\n",
       "      <td>1.000000e+00</td>\n",
       "      <td>1.000000e+00</td>\n",
       "      <td>1.000000e+00</td>\n",
       "    </tr>\n",
       "    <tr>\n",
       "      <td>min</td>\n",
       "      <td>-9.526601e-01</td>\n",
       "      <td>-7.003405e-01</td>\n",
       "      <td>-7.993895e-01</td>\n",
       "      <td>-3.891339e+00</td>\n",
       "      <td>-1.321967e+00</td>\n",
       "    </tr>\n",
       "    <tr>\n",
       "      <td>25%</td>\n",
       "      <td>-8.003390e-01</td>\n",
       "      <td>-6.291635e-01</td>\n",
       "      <td>-5.904761e-01</td>\n",
       "      <td>-5.908571e-01</td>\n",
       "      <td>-8.887871e-01</td>\n",
       "    </tr>\n",
       "    <tr>\n",
       "      <td>50%</td>\n",
       "      <td>-3.705760e-01</td>\n",
       "      <td>-3.444552e-01</td>\n",
       "      <td>-3.401523e-01</td>\n",
       "      <td>-5.231944e-02</td>\n",
       "      <td>-2.537713e-01</td>\n",
       "    </tr>\n",
       "    <tr>\n",
       "      <td>75%</td>\n",
       "      <td>4.998302e-01</td>\n",
       "      <td>2.249612e-01</td>\n",
       "      <td>1.978628e-01</td>\n",
       "      <td>4.741404e-01</td>\n",
       "      <td>8.191459e-01</td>\n",
       "    </tr>\n",
       "    <tr>\n",
       "      <td>max</td>\n",
       "      <td>3.018568e+00</td>\n",
       "      <td>1.431802e+01</td>\n",
       "      <td>2.688790e+01</td>\n",
       "      <td>4.198115e+00</td>\n",
       "      <td>2.303997e+00</td>\n",
       "    </tr>\n",
       "  </tbody>\n",
       "</table>\n",
       "</div>"
      ],
      "text/plain": [
       "                  R             F             M             C             L\n",
       "count  6.298800e+04  6.298800e+04  6.298800e+04  6.298800e+04  6.298800e+04\n",
       "mean  -5.332850e-15  5.933323e-14  2.638082e-15 -2.758702e-14  7.850596e-16\n",
       "std    1.000000e+00  1.000000e+00  1.000000e+00  1.000000e+00  1.000000e+00\n",
       "min   -9.526601e-01 -7.003405e-01 -7.993895e-01 -3.891339e+00 -1.321967e+00\n",
       "25%   -8.003390e-01 -6.291635e-01 -5.904761e-01 -5.908571e-01 -8.887871e-01\n",
       "50%   -3.705760e-01 -3.444552e-01 -3.401523e-01 -5.231944e-02 -2.537713e-01\n",
       "75%    4.998302e-01  2.249612e-01  1.978628e-01  4.741404e-01  8.191459e-01\n",
       "max    3.018568e+00  1.431802e+01  2.688790e+01  4.198115e+00  2.303997e+00"
      ]
     },
     "execution_count": 7,
     "metadata": {},
     "output_type": "execute_result"
    }
   ],
   "source": [
    "data_clean_norm=data_clean_norm.apply(lambda x: x.astype('float64'))\n",
    "data_clean_norm.describe()"
   ]
  },
  {
   "cell_type": "code",
   "execution_count": 8,
   "metadata": {
    "ExecuteTime": {
     "end_time": "2019-12-02T18:11:06.737251Z",
     "start_time": "2019-12-02T18:10:35.995204Z"
    }
   },
   "outputs": [
    {
     "data": {
      "text/plain": [
       "Text(0.5, 0, 'x')"
      ]
     },
     "execution_count": 8,
     "metadata": {},
     "output_type": "execute_result"
    },
    {
     "data": {
      "image/png": "[encoded data removed]",
      "text/plain": [
       "<Figure size 432x288 with 1 Axes>"
      ]
     },
     "metadata": {
      "needs_background": "light"
     },
     "output_type": "display_data"
    }
   ],
   "source": [
    "from sklearn.cluster import KMeans\n",
    "import matplotlib.pyplot as plt\n",
    "%matplotlib inline\n",
    "\n",
    "SSE=[]\n",
    "for k in range(1,9):\n",
    "    pred=KMeans(n_clusters=k,init='k-means++').fit(data_clean_norm)\n",
    "    SSE.append(pred.inertia_)\n",
    "x=range(1,9)\n",
    "plt.plot(x,SSE,'o-')\n",
    "plt.ylabel('SSE')\n",
    "plt.xlabel('x')\n",
    "##//用手肘法看不出最佳K值"
   ]
  },
  {
   "cell_type": "code",
   "execution_count": 9,
   "metadata": {
    "ExecuteTime": {
     "end_time": "2019-12-02T18:27:49.921518Z",
     "start_time": "2019-12-02T18:11:14.937573Z"
    }
   },
   "outputs": [
    {
     "data": {
      "text/plain": [
       "(14,    clusterCount           gap\n",
       " 0             1  1.776357e-15\n",
       " 1             2 -5.855785e-07\n",
       " 2             3 -7.006170e-08\n",
       " 3             4  5.292733e-09\n",
       " 4             5 -1.432027e-05\n",
       " 5             6  3.334448e-08\n",
       " 6             7  1.858631e-06\n",
       " 7             8  3.054682e-05\n",
       " 8             9  5.654810e-08\n",
       " 9            10  3.932295e-04\n",
       " 10           11  2.283686e-06\n",
       " 11           12  7.093439e-07\n",
       " 12           13 -1.839201e-04\n",
       " 13           14  1.296276e-03\n",
       " 14           15  9.982667e-04)"
      ]
     },
     "execution_count": 9,
     "metadata": {},
     "output_type": "execute_result"
    }
   ],
   "source": [
    "import numpy as np\n",
    "from sklearn.cluster import KMeans\n",
    "\n",
    "def gap(data,nrefs=10,maxclusters=5):\n",
    "    gaps=np.zeros(len(range(maxclusters+1)))\n",
    "    resultdf=pd.DataFrame(columns=['clusterCount','gap'])\n",
    "    for gap_index,k in enumerate(range(1,maxclusters+1)):\n",
    "        refs=np.zeros(nrefs)\n",
    "        for i in range(nrefs):\n",
    "            pred=KMeans(n_clusters=k,init='k-means++').fit(data_clean_norm)\n",
    "            refs[i]=pred.inertia_\n",
    "        pred_once=KMeans(n_clusters=k,init='k-means++').fit(data_clean_norm)\n",
    "        refs_once=pred_once.inertia_\n",
    "        gap=np.mean(np.log(refs))-np.log(refs_once)\n",
    "        resultdf=resultdf.append(pd.DataFrame({'clusterCount':[k],'gap':[gap]}),ignore_index=True)\n",
    "    return resultdf['gap'].values.argmax()+1,resultdf\n",
    "gap(data_clean_norm,maxclusters=15)"
   ]
  },
  {
   "cell_type": "code",
   "execution_count": 10,
   "metadata": {
    "ExecuteTime": {
     "end_time": "2019-06-23T14:38:10.442744Z",
     "start_time": "2019-06-23T14:38:08.643519Z"
    }
   },
   "outputs": [],
   "source": [
    "#通过观察可发现，聚类中心为4时效果与聚类中心为14时相近，为减少运营成本，将聚类中心定为4\n",
    "from sklearn.cluster import KMeans\n",
    "pred=KMeans(n_clusters=4).fit(data_clean_norm)\n",
    "\n",
    "l1=pd.DataFrame(pred.cluster_centers_)"
   ]
  },
  {
   "cell_type": "code",
   "execution_count": 11,
   "metadata": {
    "ExecuteTime": {
     "end_time": "2019-06-23T14:38:11.753753Z",
     "start_time": "2019-06-23T14:38:11.722505Z"
    }
   },
   "outputs": [
    {
     "data": {
      "text/html": [
       "<div>\n",
       "<style scoped>\n",
       "    .dataframe tbody tr th:only-of-type {\n",
       "        vertical-align: middle;\n",
       "    }\n",
       "\n",
       "    .dataframe tbody tr th {\n",
       "        vertical-align: top;\n",
       "    }\n",
       "\n",
       "    .dataframe thead th {\n",
       "        text-align: right;\n",
       "    }\n",
       "</style>\n",
       "<table border=\"1\" class=\"dataframe\">\n",
       "  <thead>\n",
       "    <tr style=\"text-align: right;\">\n",
       "      <th></th>\n",
       "      <th>0</th>\n",
       "      <th>1</th>\n",
       "      <th>2</th>\n",
       "      <th>3</th>\n",
       "      <th>4</th>\n",
       "    </tr>\n",
       "  </thead>\n",
       "  <tbody>\n",
       "    <tr>\n",
       "      <th>0</th>\n",
       "      <td>-0.367694</td>\n",
       "      <td>-0.097005</td>\n",
       "      <td>-0.105840</td>\n",
       "      <td>0.097865</td>\n",
       "      <td>1.143793</td>\n",
       "    </tr>\n",
       "    <tr>\n",
       "      <th>1</th>\n",
       "      <td>1.638896</td>\n",
       "      <td>-0.570844</td>\n",
       "      <td>-0.535772</td>\n",
       "      <td>-0.026897</td>\n",
       "      <td>-0.316494</td>\n",
       "    </tr>\n",
       "    <tr>\n",
       "      <th>2</th>\n",
       "      <td>-0.415416</td>\n",
       "      <td>-0.166672</td>\n",
       "      <td>-0.167145</td>\n",
       "      <td>-0.131631</td>\n",
       "      <td>-0.693420</td>\n",
       "    </tr>\n",
       "    <tr>\n",
       "      <th>3</th>\n",
       "      <td>-0.804065</td>\n",
       "      <td>2.434523</td>\n",
       "      <td>2.380798</td>\n",
       "      <td>0.379923</td>\n",
       "      <td>0.480355</td>\n",
       "    </tr>\n",
       "  </tbody>\n",
       "</table>\n",
       "</div>"
      ],
      "text/plain": [
       "          0         1         2         3         4\n",
       "0 -0.367694 -0.097005 -0.105840  0.097865  1.143793\n",
       "1  1.638896 -0.570844 -0.535772 -0.026897 -0.316494\n",
       "2 -0.415416 -0.166672 -0.167145 -0.131631 -0.693420\n",
       "3 -0.804065  2.434523  2.380798  0.379923  0.480355"
      ]
     },
     "execution_count": 11,
     "metadata": {},
     "output_type": "execute_result"
    }
   ],
   "source": [
    "l1"
   ]
  },
  {
   "cell_type": "code",
   "execution_count": 26,
   "metadata": {
    "ExecuteTime": {
     "end_time": "2019-06-23T15:04:30.378393Z",
     "start_time": "2019-06-23T15:04:30.369386Z"
    }
   },
   "outputs": [],
   "source": [
    "l2=pd.Series(pred.labels_).value_counts()"
   ]
  },
  {
   "cell_type": "code",
   "execution_count": 27,
   "metadata": {
    "ExecuteTime": {
     "end_time": "2019-06-23T15:04:31.674809Z",
     "start_time": "2019-06-23T15:04:31.667767Z"
    }
   },
   "outputs": [],
   "source": [
    "l3=pd.Series(l2.index)"
   ]
  },
  {
   "cell_type": "code",
   "execution_count": 28,
   "metadata": {
    "ExecuteTime": {
     "end_time": "2019-06-23T15:04:33.065038Z",
     "start_time": "2019-06-23T15:04:33.055966Z"
    }
   },
   "outputs": [
    {
     "data": {
      "text/plain": [
       "Index(['R', 'F', 'M', 'C', 'L'], dtype='object')"
      ]
     },
     "execution_count": 28,
     "metadata": {},
     "output_type": "execute_result"
    }
   ],
   "source": [
    "data_clean_norm.columns"
   ]
  },
  {
   "cell_type": "code",
   "execution_count": 30,
   "metadata": {
    "ExecuteTime": {
     "end_time": "2019-06-23T15:04:43.589467Z",
     "start_time": "2019-06-23T15:04:43.561447Z"
    }
   },
   "outputs": [
    {
     "data": {
      "text/html": [
       "<div>\n",
       "<style scoped>\n",
       "    .dataframe tbody tr th:only-of-type {\n",
       "        vertical-align: middle;\n",
       "    }\n",
       "\n",
       "    .dataframe tbody tr th {\n",
       "        vertical-align: top;\n",
       "    }\n",
       "\n",
       "    .dataframe thead th {\n",
       "        text-align: right;\n",
       "    }\n",
       "</style>\n",
       "<table border=\"1\" class=\"dataframe\">\n",
       "  <thead>\n",
       "    <tr style=\"text-align: right;\">\n",
       "      <th></th>\n",
       "      <th>type</th>\n",
       "      <th>R</th>\n",
       "      <th>F</th>\n",
       "      <th>M</th>\n",
       "      <th>C</th>\n",
       "      <th>L</th>\n",
       "      <th>type numers</th>\n",
       "    </tr>\n",
       "  </thead>\n",
       "  <tbody>\n",
       "    <tr>\n",
       "      <th>0</th>\n",
       "      <td>2</td>\n",
       "      <td>-0.367694</td>\n",
       "      <td>-0.097005</td>\n",
       "      <td>-0.105840</td>\n",
       "      <td>0.097865</td>\n",
       "      <td>1.143793</td>\n",
       "      <td>17413</td>\n",
       "    </tr>\n",
       "    <tr>\n",
       "      <th>1</th>\n",
       "      <td>0</td>\n",
       "      <td>1.638896</td>\n",
       "      <td>-0.570844</td>\n",
       "      <td>-0.535772</td>\n",
       "      <td>-0.026897</td>\n",
       "      <td>-0.316494</td>\n",
       "      <td>13398</td>\n",
       "    </tr>\n",
       "    <tr>\n",
       "      <th>2</th>\n",
       "      <td>1</td>\n",
       "      <td>-0.415416</td>\n",
       "      <td>-0.166672</td>\n",
       "      <td>-0.167145</td>\n",
       "      <td>-0.131631</td>\n",
       "      <td>-0.693420</td>\n",
       "      <td>26534</td>\n",
       "    </tr>\n",
       "    <tr>\n",
       "      <th>3</th>\n",
       "      <td>3</td>\n",
       "      <td>-0.804065</td>\n",
       "      <td>2.434523</td>\n",
       "      <td>2.380798</td>\n",
       "      <td>0.379923</td>\n",
       "      <td>0.480355</td>\n",
       "      <td>5643</td>\n",
       "    </tr>\n",
       "  </tbody>\n",
       "</table>\n",
       "</div>"
      ],
      "text/plain": [
       "   type         R         F         M         C         L  type numers\n",
       "0     2 -0.367694 -0.097005 -0.105840  0.097865  1.143793        17413\n",
       "1     0  1.638896 -0.570844 -0.535772 -0.026897 -0.316494        13398\n",
       "2     1 -0.415416 -0.166672 -0.167145 -0.131631 -0.693420        26534\n",
       "3     3 -0.804065  2.434523  2.380798  0.379923  0.480355         5643"
      ]
     },
     "execution_count": 30,
     "metadata": {},
     "output_type": "execute_result"
    }
   ],
   "source": [
    "l=pd.concat([l3,l1,l2],axis=1)\n",
    "l.columns=['type']+list(data_clean_norm.columns)+['type numers']\n",
    "l"
   ]
  },
  {
   "cell_type": "code",
   "execution_count": null,
   "metadata": {},
   "outputs": [],
   "source": []
  }
 ],
 "metadata": {
  "kernelspec": {
   "display_name": "Python 3",
   "language": "python",
   "name": "python3"
  },
  "language_info": {
   "codemirror_mode": {
    "name": "ipython",
    "version": 3
   },
   "file_extension": ".py",
   "mimetype": "text/x-python",
   "name": "python",
   "nbconvert_exporter": "python",
   "pygments_lexer": "ipython3",
   "version": "3.6.5-final"
  },
  "latex_envs": {
   "LaTeX_envs_menu_present": true,
   "autoclose": false,
   "autocomplete": true,
   "bibliofile": "biblio.bib",
   "cite_by": "apalike",
   "current_citInitial": 1,
   "eqLabelWithNumbers": true,
   "eqNumInitial": 1,
   "hotkeys": {
    "equation": "Ctrl-E",
    "itemize": "Ctrl-I"
   },
   "labels_anchors": false,
   "latex_user_defs": false,
   "report_style_numbering": false,
   "user_envs_cfg": false
  },
  "toc": {
   "base_numbering": 1,
   "nav_menu": {},
   "number_sections": true,
   "sideBar": true,
   "skip_h1_title": false,
   "title_cell": "Table of Contents",
   "title_sidebar": "Contents",
   "toc_cell": false,
   "toc_position": {},
   "toc_section_display": true,
   "toc_window_display": false
  },
  "varInspector": {
   "cols": {
    "lenName": 16,
    "lenType": 16,
    "lenVar": 40
   },
   "kernels_config": {
    "python": {
     "delete_cmd_postfix": "",
     "delete_cmd_prefix": "del ",
     "library": "var_list.py",
     "varRefreshCmd": "print(var_dic_list())"
    },
    "r": {
     "delete_cmd_postfix": ") ",
     "delete_cmd_prefix": "rm(",
     "library": "var_list.r",
     "varRefreshCmd": "cat(var_dic_list()) "
    }
   },
   "types_to_exclude": [
    "module",
    "function",
    "builtin_function_or_method",
    "instance",
    "_Feature"
   ],
   "window_display": false
  }
 },
 "nbformat": 4,
 "nbformat_minor": 2
}